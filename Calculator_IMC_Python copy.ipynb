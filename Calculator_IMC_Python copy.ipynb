{
 "cells": [
  {
   "cell_type": "markdown",
   "id": "d0767dd9",
   "metadata": {},
   "source": [
    "# Calculateur IMC  : Indice de Mass Corporelle\n",
    "### Exemple : https://www.topsante.com/outils/imc\n"
   ]
  },
  {
   "cell_type": "code",
   "execution_count": null,
   "id": "b9f95b25",
   "metadata": {},
   "outputs": [],
   "source": [
    "# on crée les inputs tout en les mettant int type ! \n",
    "\n",
    "prenom = input(\"Prénom: \")\n",
    "\n",
    "poids = float(input(\"Poids en kg: \"))\n",
    "\n",
    "taille = int(input(\"Taille en cm: \"))\n",
    "\n",
    "IMC = round(poids / (taille / 100)**2, 1) # configurer en mettre pour avoir le bon calcul\n",
    "                                       # round()  , 1==> limiter à un chiffre après la virgule\n",
    "\n",
    "print(IMC)\n",
    "\n",
    "if IMC>0:\n",
    "    if(IMC<18.5):\n",
    "        print( prenom + \", vous avez une insuffisance pondérale (maigreur).\")\n",
    "        \n",
    "    elif(IMC<=24.9):\n",
    "         print(prenom + \", vous avez une corupulance normale.\")\n",
    "            \n",
    "    elif(IMC<=29.9):\n",
    "        print(prenom + \", vous êtes en surpoids\")\n",
    "        \n",
    "    elif(IMC<=34.9):\n",
    "        print(prenom + \", vous avez une obésité modérée\")\n",
    "        \n",
    "    elif(IMC<=39.9):\n",
    "        print(prenom + \", vous avez une Obésité sévère\")\n",
    "         \n",
    "    elif(IMC > 40):\n",
    "        print(prenom + \", Vous avez une obésité massive\")\n",
    "        \n",
    "else:\n",
    "    print(\"Error : une valeur n'est pas valide\")\n"
   ]
  },
  {
   "cell_type": "code",
   "execution_count": null,
   "id": "18c97edb",
   "metadata": {},
   "outputs": [],
   "source": [
    "Indice de masse corporelle (IMC)\tInterprétation (d’après l’OMS)\n",
    "moins de 18,5\tInsuffisance pondérale (maigreur)\n",
    "18,5 à 25\tCorpulence normale\n",
    "25 à 30\tSurpoids\n",
    "30 à 35\tObésité modérée\n",
    "35 à 40\tObésité sévère\n",
    "plus de 40\tObésité morbide ou massive\n"
   ]
  },
  {
   "cell_type": "code",
   "execution_count": null,
   "id": "116160c3",
   "metadata": {},
   "outputs": [],
   "source": [
    "#IMC = Poids (en kilogrammes) / (Taille (en mètres) * Taille (en mètres))"
   ]
  },
  {
   "cell_type": "code",
   "execution_count": null,
   "id": "56f5b1bb",
   "metadata": {},
   "outputs": [],
   "source": [
    "def calcul_imc(poids, taille):\n",
    "    return round(poids / (taille / 100)**2, 1)\n",
    "\n",
    "\n",
    "def interprete_imc(imc):\n",
    "    if imc < 18.5:\n",
    "        return \"Insuffisance pondérale (maigreur)\"\n",
    "    elif imc <= 24.9:\n",
    "        return \"Corpulence normale\"\n",
    "    elif imc <= 29.9:\n",
    "        return \"Surpoids\"\n",
    "    elif imc <= 34.9:\n",
    "        return \"Obésité modérée\"\n",
    "    elif imc <= 39.9:\n",
    "        return \"Obésité sévère\"\n",
    "    else:\n",
    "        return \"Obésité morbide ou massive\"\n",
    "\n",
    "\n",
    "def conseils_sante(categorie_imc):\n",
    "    conseils = {\n",
    "        \"Insuffisance pondérale (maigreur)\": \"Il est recommandé de consulter un professionnel de la santé pour évaluer votre situation.\",\n",
    "        \"Corpulence normale\": \"Maintenez une alimentation équilibrée et adoptez un mode de vie actif pour rester en bonne santé.\",\n",
    "        \"Surpoids\": \"Adoptez des habitudes alimentaires saines et augmentez votre activité physique pour perdre du poids de manière durable.\",\n",
    "        \"Obésité modérée\": \"Consultez un professionnel de la santé pour élaborer un plan de perte de poids adapté.\",\n",
    "        \"Obésité sévère\": \"La perte de poids sous surveillance médicale est fortement recommandée.\",\n",
    "        \"Obésité morbide ou massive\": \"Une intervention médicale immédiate est nécessaire. Consultez un professionnel de la santé.\"\n",
    "    }\n",
    "    return conseils.get(categorie_imc, \"Consultez un professionnel de la santé pour des conseils personnalisés.\")\n",
    "\n",
    "\n",
    "def calculateur_imc():\n",
    "    prenom = input(\"Prénom: \")\n",
    "    poids = float(input(\"Poids en kg: \"))\n",
    "    taille = int(input(\"Taille en cm: \"))\n",
    "\n",
    "    imc = calcul_imc(poids, taille)\n",
    "    categorie_imc = interprete_imc(imc)\n",
    "\n",
    "    print(f\"IMC: {imc}\")  # utilisaiton d'un f-string : ajoutrer un str à un chiffre :\n",
    "    print(f\"{prenom}, vous avez une {categorie_imc}.\")\n",
    "\n",
    "    conseils = conseils_sante(categorie_imc)\n",
    "    print(conseils)\n",
    "\n",
    "\n",
    "# Appel de la fonction du calculateur d'IMC\n",
    "calculateur_imc()\n"
   ]
  }
 ],
 "metadata": {
  "kernelspec": {
   "display_name": "Python 3 (ipykernel)",
   "language": "python",
   "name": "python3"
  },
  "language_info": {
   "codemirror_mode": {
    "name": "ipython",
    "version": 3
   },
   "file_extension": ".py",
   "mimetype": "text/x-python",
   "name": "python",
   "nbconvert_exporter": "python",
   "pygments_lexer": "ipython3",
   "version": "3.11.5"
  }
 },
 "nbformat": 4,
 "nbformat_minor": 5
}
