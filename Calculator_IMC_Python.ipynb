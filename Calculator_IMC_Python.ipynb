{
 "cells": [
  {
   "cell_type": "markdown",
   "id": "d0767dd9",
   "metadata": {},
   "source": [
    "# Calculateur IMC  : Indice de Mass Corporelle\n",
    "### Exemple : https://www.topsante.com/outils/imc\n"
   ]
  },
  {
   "cell_type": "code",
   "execution_count": 48,
   "id": "b9f95b25",
   "metadata": {},
   "outputs": [
    {
     "name": "stdout",
     "output_type": "stream",
     "text": [
      "Prénom: adik\n",
      "Poids en kg: 0\n",
      "Taille en cm: 100\n",
      "0.0\n",
      "Error : une valeur n'est pas valide\n"
     ]
    }
   ],
   "source": [
    "# on crée les inputs tout en les mettant int type ! \n",
    "\n",
    "prenom = input(\"Prénom: \")\n",
    "\n",
    "poids = float(input(\"Poids en kg: \"))\n",
    "\n",
    "taille = int(input(\"Taille en cm: \"))\n",
    "\n",
    "IMC = round(poids / (taille / 100)**2, 1) # configurer en mettre pour avoir le bon calcul\n",
    "                                       # round()  , 1==> limiter à un chiffre après la virgule\n",
    "\n",
    "print(IMC)\n",
    "\n",
    "if IMC>0:\n",
    "    if(IMC<18.5):\n",
    "        print( prenom + \", vous avez une insuffisance pondérale (maigreur).\")\n",
    "        \n",
    "    elif(IMC<=24.9):\n",
    "         print(prenom + \", vous avez une corupulance normale.\")\n",
    "            \n",
    "    elif(IMC<=29.9):\n",
    "        print(prenom + \", vous êtes en surpoids\")\n",
    "        \n",
    "    elif(IMC<=34.9):\n",
    "        print(prenom + \", vous avez une obésité modérée\")\n",
    "        \n",
    "    elif(IMC<=39.9):\n",
    "        print(prenom + \", vous avez une Obésité sévère\")\n",
    "         \n",
    "    elif(IMC > 40):\n",
    "        print(prenom + \", Vous avez une obésité massive\")\n",
    "        \n",
    "else:\n",
    "    print(\"Error : une valeur n'est pas valide\")\n"
   ]
  },
  {
   "cell_type": "code",
   "execution_count": null,
   "id": "af222936",
   "metadata": {},
   "outputs": [],
   "source": []
  },
  {
   "cell_type": "code",
   "execution_count": null,
   "id": "18c97edb",
   "metadata": {},
   "outputs": [],
   "source": [
    "Indice de masse corporelle (IMC)\tInterprétation (d’après l’OMS)\n",
    "moins de 18,5\tInsuffisance pondérale (maigreur)\n",
    "18,5 à 25\tCorpulence normale\n",
    "25 à 30\tSurpoids\n",
    "30 à 35\tObésité modérée\n",
    "35 à 40\tObésité sévère\n",
    "plus de 40\tObésité morbide ou massive\n"
   ]
  },
  {
   "cell_type": "code",
   "execution_count": null,
   "id": "116160c3",
   "metadata": {},
   "outputs": [],
   "source": [
    "#IMC = Poids (en kilogrammes) / (Taille (en mètres) * Taille (en mètres))"
   ]
  },
  {
   "cell_type": "code",
   "execution_count": 49,
   "id": "56f5b1bb",
   "metadata": {},
   "outputs": [
    {
     "name": "stdout",
     "output_type": "stream",
     "text": [
      "Prénom: adil\n",
      "Poids en kg: 82.9\n",
      "Taille en cm: 174\n",
      "IMC: 27.4\n",
      "adil, vous avez une Surpoids.\n",
      "Adoptez des habitudes alimentaires saines et augmentez votre activité physique pour perdre du poids de manière durable.\n"
     ]
    }
   ],
   "source": [
    "def calcul_imc(poids, taille):\n",
    "    return round(poids / (taille / 100)**2, 1)\n",
    "\n",
    "\n",
    "def interprete_imc(imc):\n",
    "    if imc < 18.5:\n",
    "        return \"Insuffisance pondérale (maigreur)\"\n",
    "    elif imc <= 24.9:\n",
    "        return \"Corpulence normale\"\n",
    "    elif imc <= 29.9:\n",
    "        return \"Surpoids\"\n",
    "    elif imc <= 34.9:\n",
    "        return \"Obésité modérée\"\n",
    "    elif imc <= 39.9:\n",
    "        return \"Obésité sévère\"\n",
    "    else:\n",
    "        return \"Obésité morbide ou massive\"\n",
    "\n",
    "\n",
    "def conseils_sante(categorie_imc):\n",
    "    conseils = {\n",
    "        \"Insuffisance pondérale (maigreur)\": \"Il est recommandé de consulter un professionnel de la santé pour évaluer votre situation.\",\n",
    "        \"Corpulence normale\": \"Maintenez une alimentation équilibrée et adoptez un mode de vie actif pour rester en bonne santé.\",\n",
    "        \"Surpoids\": \"Adoptez des habitudes alimentaires saines et augmentez votre activité physique pour perdre du poids de manière durable.\",\n",
    "        \"Obésité modérée\": \"Consultez un professionnel de la santé pour élaborer un plan de perte de poids adapté.\",\n",
    "        \"Obésité sévère\": \"La perte de poids sous surveillance médicale est fortement recommandée.\",\n",
    "        \"Obésité morbide ou massive\": \"Une intervention médicale immédiate est nécessaire. Consultez un professionnel de la santé.\"\n",
    "    }\n",
    "    return conseils.get(categorie_imc, \"Consultez un professionnel de la santé pour des conseils personnalisés.\")\n",
    "\n",
    "\n",
    "def calculateur_imc():\n",
    "    prenom = input(\"Prénom: \")\n",
    "    poids = float(input(\"Poids en kg: \"))\n",
    "    taille = int(input(\"Taille en cm: \"))\n",
    "\n",
    "    imc = calcul_imc(poids, taille)\n",
    "    categorie_imc = interprete_imc(imc)\n",
    "\n",
    "    print(f\"IMC: {imc}\")  # utilisaiton d'un f-string : ajoutrer un str à un chiffre :\n",
    "    print(f\"{prenom}, vous avez une {categorie_imc}.\")\n",
    "\n",
    "    conseils = conseils_sante(categorie_imc)\n",
    "    print(conseils)\n",
    "\n",
    "\n",
    "# Appel de la fonction du calculateur d'IMC\n",
    "calculateur_imc()\n"
   ]
  },
  {
   "cell_type": "markdown",
   "id": "7a030d91",
   "metadata": {},
   "source": [
    "# differnce entre print et return \n",
    "\n",
    "La distinction entre return et print dans le contexte de programmation en Python est importante et dépend du rôle de la fonction. Voici une explication de chacun :\n",
    "\n",
    "1-return :\n",
    "\n",
    "Lorsqu'une fonction utilise return, elle renvoie une valeur qui peut être utilisée à d'autres endroits dans le programme.\n",
    "La valeur retournée peut être stockée dans une variable, utilisée dans une expression ou passée à une autre fonction.\n",
    "print :\n",
    "\n",
    "2- print est utilisé pour afficher du texte ou des valeurs à la console, mais il ne renvoie pas de valeur exploitable par d'autres parties du programme.\n",
    "Il est principalement utilisé pour fournir des sorties visibles à l'utilisateur lors de l'exécution du programme.\n",
    "\n",
    "Dans le cas des fonctions #calcul_imc, #interprete_imc, et #conseils_sante, #l'utilisation de return est appropriée car ces fonctions calculent ou fournissent une valeur spécifique qui peut être utilisée à des fins ultérieures. Par exemple, dans calculateur_imc, la fonction calcul_imc retourne l'IMC, et la fonction interprete_imc retourne une catégorie de poids. Ces valeurs peuvent être utilisées pour affichage ou pour d'autres calculs si nécessaire.\n",
    "\n",
    "D'autre part, print est utilisé dans calculateur_imc pour afficher des informations à la console, mais il ne renvoie pas une valeur à utiliser ailleurs dans le programme. Les valeurs calculées et interprétées sont obtenues grâce à l'utilisation de return dans les fonctions sous-jacentes.\n",
    "\n",
    "\n",
    "\n"
   ]
  },
  {
   "cell_type": "code",
   "execution_count": null,
   "id": "cc466ea4",
   "metadata": {},
   "outputs": [],
   "source": []
  }
 ],
 "metadata": {
  "kernelspec": {
   "display_name": "Python 3 (ipykernel)",
   "language": "python",
   "name": "python3"
  },
  "language_info": {
   "codemirror_mode": {
    "name": "ipython",
    "version": 3
   },
   "file_extension": ".py",
   "mimetype": "text/x-python",
   "name": "python",
   "nbconvert_exporter": "python",
   "pygments_lexer": "ipython3",
   "version": "3.11.5"
  }
 },
 "nbformat": 4,
 "nbformat_minor": 5
}
